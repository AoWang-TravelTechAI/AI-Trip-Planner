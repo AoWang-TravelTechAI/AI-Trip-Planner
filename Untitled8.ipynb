{
 "cells": [
  {
   "cell_type": "code",
   "execution_count": 2,
   "id": "f9b321fd-4bda-4cf8-915f-753b92bb93d0",
   "metadata": {},
   "outputs": [],
   "source": [
    "# Import all required libraries\n",
    "import pandas as pd\n",
    "import numpy as np\n",
    "from sklearn.model_selection import train_test_split\n",
    "from sklearn.naive_bayes import GaussianNB\n",
    "from sklearn.metrics import classification_report, confusion_matrix, accuracy_score, roc_auc_score\n",
    "from sklearn.preprocessing import OneHotEncoder, StandardScaler\n",
    "from sklearn.compose import ColumnTransformer\n",
    "from sklearn.pipeline import Pipeline\n",
    "import matplotlib.pyplot as plt\n",
    "import seaborn as sns\n",
    "import joblib"
   ]
  },
  {
   "cell_type": "code",
   "execution_count": 3,
   "id": "ea302b93-af70-43e1-ac26-080987e99a7e",
   "metadata": {},
   "outputs": [
    {
     "name": "stdout",
     "output_type": "stream",
     "text": [
      "Data preprocessing completed. Saved to credit_processed.csv\n"
     ]
    }
   ],
   "source": [
    "# Data preprocessing\n",
    "# Load and clean raw data\n",
    "df = pd.read_csv(\"credit_train.csv\")\n",
    "df = df.drop(columns=['Loan ID', 'Customer ID'])\n",
    "\n",
    "# Convert data types\n",
    "cat_cols = ['Loan Status', 'Term', 'Years in current job', 'Home Ownership', 'Purpose']\n",
    "for col in cat_cols:\n",
    "    df[col] = df[col].astype('category')\n",
    "\n",
    "int_cols = ['Credit Score', 'Number of Open Accounts', 'Number of Credit Problems', \n",
    "            'Bankruptcies', 'Tax Liens']\n",
    "for col in int_cols:\n",
    "    df[col] = pd.to_numeric(df[col], errors='coerce').astype('Int64')\n",
    "\n",
    "float_cols = ['Current Loan Amount', 'Annual Income', 'Monthly Debt', \n",
    "              'Years of Credit History', 'Months since last delinquent',\n",
    "              'Current Credit Balance', 'Maximum Open Credit']\n",
    "for col in float_cols:\n",
    "    df[col] = pd.to_numeric(df[col], errors='coerce')\n",
    "\n",
    "# Create target variable\n",
    "df['Loan Status_n'] = df['Loan Status'].map({'Fully Paid': 0, 'Charged Off': 1})\n",
    "df = df.drop(columns=['Loan Status'])\n",
    "\n",
    "# Feature engineering\n",
    "df['Has_Delinquency'] = df['Months since last delinquent'].isna().astype(int)\n",
    "df['Months since last delinquent'] = df['Months since last delinquent'].apply(\n",
    "    lambda x: 0 if pd.isna(x) else x + 1)\n",
    "\n",
    "# Handle missing values\n",
    "for col in df.select_dtypes(include=['float64', 'int64', 'Int64']).columns:\n",
    "    if col != 'Months since last delinquent':\n",
    "        df[col] = df[col].fillna(df[col].median())\n",
    "\n",
    "for col in df.select_dtypes(include='category').columns:\n",
    "    df[col] = df[col].fillna(df[col].mode()[0])\n",
    "\n",
    "# Save processed data\n",
    "df.to_csv(\"credit_processed.csv\", index=False)\n",
    "print(\"Data preprocessing completed. Saved to credit_processed.csv\")"
   ]
  },
  {
   "cell_type": "code",
   "execution_count": 4,
   "id": "b1aed30c-c938-45e9-b694-5d92f0c4bd60",
   "metadata": {},
   "outputs": [
    {
     "name": "stdout",
     "output_type": "stream",
     "text": [
      "Processed data shape: (100514, 18)\n",
      "\n",
      "Target distribution:\n",
      "Loan Status_n\n",
      "0    0.774768\n",
      "1    0.225232\n",
      "Name: proportion, dtype: float64\n"
     ]
    }
   ],
   "source": [
    "# Load processed data and verify\n",
    "df = pd.read_csv(\"credit_processed.csv\")\n",
    "print(f\"Processed data shape: {df.shape}\")\n",
    "print(\"\\nTarget distribution:\")\n",
    "print(df['Loan Status_n'].value_counts(normalize=True))"
   ]
  },
  {
   "cell_type": "code",
   "execution_count": 5,
   "id": "6e4a8ef8-84f2-4530-b07e-0b7b57d3c5b4",
   "metadata": {},
   "outputs": [
    {
     "name": "stdout",
     "output_type": "stream",
     "text": [
      "\n",
      "Training set: 80411 samples\n",
      "Test set: 20103 samples\n"
     ]
    }
   ],
   "source": [
    "# Prepare data for modeling\n",
    "X = df.drop(columns=['Loan Status_n'])\n",
    "y = df['Loan Status_n']\n",
    "\n",
    "# Split data with stratification\n",
    "X_train, X_test, y_train, y_test = train_test_split(\n",
    "    X, y, \n",
    "    test_size=0.2, \n",
    "    random_state=42,\n",
    "    stratify=y\n",
    ")\n",
    "print(f\"\\nTraining set: {X_train.shape[0]} samples\")\n",
    "print(f\"Test set: {X_test.shape[0]} samples\")"
   ]
  },
  {
   "cell_type": "code",
   "execution_count": 6,
   "id": "e941a82b-0882-4dcf-85f7-3a355d250b43",
   "metadata": {},
   "outputs": [
    {
     "name": "stdout",
     "output_type": "stream",
     "text": [
      "Categorical features: ['Term', 'Years in current job', 'Home Ownership', 'Purpose']\n",
      "Numerical features: ['Current Loan Amount', 'Credit Score', 'Annual Income', 'Monthly Debt', 'Years of Credit History', 'Months since last delinquent', 'Number of Open Accounts', 'Number of Credit Problems', 'Current Credit Balance', 'Maximum Open Credit', 'Bankruptcies', 'Tax Liens', 'Has_Delinquency']\n"
     ]
    }
   ],
   "source": [
    "# Set up preprocessing pipeline for Naive Bayes\n",
    "# Naive Bayes requires different preprocessing than Random Forest:\n",
    "# - Categorical: OneHotEncoding\n",
    "# - Numerical: Standardization (GaussianNB assumes features are normally distributed)\n",
    "\n",
    "categorical_cols = X.select_dtypes(include=['object', 'category']).columns.tolist()\n",
    "numerical_cols = X.select_dtypes(include=['int64', 'float64', 'Int64']).columns.tolist()\n",
    "\n",
    "print(\"Categorical features:\", categorical_cols)\n",
    "print(\"Numerical features:\", numerical_cols)\n",
    "\n",
    "# Create column transformer with standardization for numerical features\n",
    "preprocessor = ColumnTransformer(\n",
    "    transformers=[\n",
    "        ('num', StandardScaler(), numerical_cols),  # Standardize numerical features\n",
    "        ('cat', OneHotEncoder(handle_unknown='ignore'), categorical_cols)\n",
    "    ])"
   ]
  },
  {
   "cell_type": "code",
   "execution_count": 7,
   "id": "7162e14d-2c8c-44f0-abb8-b4c7b8ea241c",
   "metadata": {},
   "outputs": [
    {
     "name": "stdout",
     "output_type": "stream",
     "text": [
      "Naive Bayes model trained successfully\n"
     ]
    }
   ],
   "source": [
    "# Build and train Naive Bayes model\n",
    "nb_pipeline = Pipeline([\n",
    "    ('preprocessor', preprocessor),\n",
    "    ('classifier', GaussianNB())\n",
    "])\n",
    "\n",
    "# Train model\n",
    "nb_pipeline.fit(X_train, y_train)\n",
    "print(\"Naive Bayes model trained successfully\")"
   ]
  },
  {
   "cell_type": "code",
   "execution_count": 8,
   "id": "7aa7afd1-6001-4b7d-bd63-c6296969ff2a",
   "metadata": {},
   "outputs": [
    {
     "name": "stdout",
     "output_type": "stream",
     "text": [
      "\n",
      "Model Performance:\n",
      "Accuracy: 0.6652\n",
      "AUC-ROC: 0.7018\n",
      "\n",
      "Classification Report:\n",
      "              precision    recall  f1-score   support\n",
      "\n",
      "           0       0.85      0.69      0.76     15575\n",
      "           1       0.35      0.57      0.43      4528\n",
      "\n",
      "    accuracy                           0.67     20103\n",
      "   macro avg       0.60      0.63      0.60     20103\n",
      "weighted avg       0.73      0.67      0.69     20103\n",
      "\n"
     ]
    },
    {
     "data": {
      "image/png": "[encoded data removed]",
      "text/plain": [
       "<Figure size 600x600 with 2 Axes>"
      ]
     },
     "metadata": {},
     "output_type": "display_data"
    }
   ],
   "source": [
    "# Model evaluation\n",
    "# Generate predictions\n",
    "y_pred = nb_pipeline.predict(X_test)\n",
    "y_proba = nb_pipeline.predict_proba(X_test)[:, 1]\n",
    "\n",
    "# Calculate metrics\n",
    "print(\"\\nModel Performance:\")\n",
    "print(f\"Accuracy: {accuracy_score(y_test, y_pred):.4f}\")\n",
    "print(f\"AUC-ROC: {roc_auc_score(y_test, y_proba):.4f}\")\n",
    "print(\"\\nClassification Report:\")\n",
    "print(classification_report(y_test, y_pred))\n",
    "\n",
    "# Confusion matrix\n",
    "plt.figure(figsize=(6, 6))\n",
    "sns.heatmap(confusion_matrix(y_test, y_pred), \n",
    "            annot=True, fmt='d', cmap='Blues',\n",
    "            xticklabels=['Fully Paid', 'Charged Off'],\n",
    "            yticklabels=['Fully Paid', 'Charged Off'])\n",
    "plt.title('Naive Bayes Confusion Matrix')\n",
    "plt.xlabel('Predicted')\n",
    "plt.ylabel('Actual')\n",
    "plt.show()"
   ]
  },
  {
   "cell_type": "code",
   "execution_count": 9,
   "id": "257f88c9-ea14-48c1-a38c-e3a2e04f929d",
   "metadata": {},
   "outputs": [
    {
     "name": "stdout",
     "output_type": "stream",
     "text": [
      "\n",
      "Outputs saved:\n",
      "- Model: loan_status_nb_model.pkl\n",
      "- Predictions: nb_predictions.csv\n"
     ]
    }
   ],
   "source": [
    "# Save outputs\n",
    "# Save model\n",
    "joblib.dump(nb_pipeline, 'loan_status_nb_model.pkl')\n",
    "\n",
    "# Save predictions with probabilities\n",
    "results_df = X_test.copy()\n",
    "results_df['Actual'] = y_test\n",
    "results_df['Predicted'] = y_pred\n",
    "results_df['Probability_Charged_Off'] = y_proba\n",
    "results_df.to_csv('nb_predictions.csv', index=False)\n",
    "\n",
    "print(\"\\nOutputs saved:\")\n",
    "print(\"- Model: loan_status_nb_model.pkl\")\n",
    "print(\"- Predictions: nb_predictions.csv\")"
   ]
  },
  {
   "cell_type": "code",
   "execution_count": null,
   "id": "b3cd39cf-27f7-4cc4-8166-1fa713c502b5",
   "metadata": {},
   "outputs": [],
   "source": []
  }
 ],
 "metadata": {
  "kernelspec": {
   "display_name": "Python 3 (ipykernel)",
   "language": "python",
   "name": "python3"
  },
  "language_info": {
   "codemirror_mode": {
    "name": "ipython",
    "version": 3
   },
   "file_extension": ".py",
   "mimetype": "text/x-python",
   "name": "python",
   "nbconvert_exporter": "python",
   "pygments_lexer": "ipython3",
   "version": "3.11.5"
  }
 },
 "nbformat": 4,
 "nbformat_minor": 5
}
