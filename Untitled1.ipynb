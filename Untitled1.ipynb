{
 "cells": [
  {
   "cell_type": "code",
   "execution_count": null,
   "id": "1396be34-6018-4379-a3f4-628cafe9dea5",
   "metadata": {},
   "outputs": [],
   "source": [
    "# Name: Ao Wang\n",
    "# CWID: 20033397\n",
    "# Question 3"
   ]
  },
  {
   "cell_type": "code",
   "execution_count": null,
   "id": "68852b93-c91a-44e4-8f04-814af863c090",
   "metadata": {},
   "outputs": [],
   "source": [
    "# Import necessary libraries\n",
    "import pandas as pd\n",
    "import matplotlib.pyplot as plt\n",
    "import seaborn as sns\n",
    "\n",
    "# Load the dataset\n",
    "df = pd.read_csv(\"hepatitis_A.csv\")"
   ]
  },
  {
   "cell_type": "code",
   "execution_count": null,
   "id": "8703077b-30d8-4cde-b0f9-a6aeb102f875",
   "metadata": {},
   "outputs": [],
   "source": [
    "# Select numerical columns for summary\n",
    "numerical_columns = [\"BILIRUBIN\", \"SGOT\", \"ALBUMIN\"]\n",
    "\n",
    "# Generate summary statistics (min, max, mean, etc.)\n",
    "summary = df[numerical_columns].describe()\n",
    "print(\"Summary Statistics:\")\n",
    "print(summary)"
   ]
  },
  {
   "cell_type": "code",
   "execution_count": null,
   "id": "72a7db68-9170-4b4d-8d1e-1bdb2b98f03e",
   "metadata": {},
   "outputs": [],
   "source": [
    "# Create scatter plots for pairs of numerical columns\n",
    "print(\"Scatter Plots:\")\n",
    "sns.pairplot(df[numerical_columns])\n",
    "plt.show()"
   ]
  },
  {
   "cell_type": "code",
   "execution_count": null,
   "id": "a2506455-3877-4388-b380-8d071b57e526",
   "metadata": {},
   "outputs": [],
   "source": [
    "# Create box plots for numerical columns\n",
    "print(\"Box Plots:\")\n",
    "plt.figure(figsize=(12, 6))\n",
    "for i, col in enumerate(numerical_columns, 1):\n",
    "    plt.subplot(1, 3, i)\n",
    "    sns.boxplot(y=df[col])\n",
    "    plt.title(col)\n",
    "plt.show()"
   ]
  }
 ],
 "metadata": {
  "kernelspec": {
   "display_name": "Python 3 (ipykernel)",
   "language": "python",
   "name": "python3"
  },
  "language_info": {
   "codemirror_mode": {
    "name": "ipython",
    "version": 3
   },
   "file_extension": ".py",
   "mimetype": "text/x-python",
   "name": "python",
   "nbconvert_exporter": "python",
   "pygments_lexer": "ipython3",
   "version": "3.11.5"
  }
 },
 "nbformat": 4,
 "nbformat_minor": 5
}
