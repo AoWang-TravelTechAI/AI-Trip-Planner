{
 "cells": [
  {
   "cell_type": "code",
   "execution_count": null,
   "id": "6a8ee0af-4394-4d74-b46f-2a38e09cb0b0",
   "metadata": {},
   "outputs": [],
   "source": [
    "# Name: Ao Wang\n",
    "# CWID: 20033397\n",
    "# Question 5"
   ]
  },
  {
   "cell_type": "code",
   "execution_count": null,
   "id": "bcd4189e-4404-44dd-8f25-5023c6697270",
   "metadata": {},
   "outputs": [],
   "source": [
    "# Import necessary libraries\n",
    "from sklearn.neighbors import KNeighborsClassifier\n",
    "from sklearn.model_selection import train_test_split\n",
    "from sklearn.metrics import accuracy_score\n",
    "\n",
    "# Load the dataset\n",
    "df = pd.read_csv(\"hepatitis_B2.csv\")"
   ]
  },
  {
   "cell_type": "code",
   "execution_count": null,
   "id": "36986abe-89f1-4c00-97ad-61f559ecfed3",
   "metadata": {},
   "outputs": [],
   "source": [
    "# Select features: AGE, SEX, ASCITES, BILIRUBIN, ALK_PHOSPHATE, SGOT, ALBUMIN\n",
    "X = df[[\"AGE\", \"SEX\", \"ASCITES\", \"BILIRUBIN\", \"ALK_PHOSPHATE\", \"SGOT\", \"ALBUMIN\"]]\n",
    "\n",
    "# Select target variable: Class (1: Die, 2: Live)\n",
    "y = df[\"Class\"]"
   ]
  },
  {
   "cell_type": "code",
   "execution_count": null,
   "id": "19899a41-7f35-440c-8ebe-188305ae74f7",
   "metadata": {},
   "outputs": [],
   "source": [
    "# Split the data: 80% training, 20% testing\n",
    "X_train, X_test, y_train, y_test = train_test_split(X, y, test_size=0.2, random_state=42)"
   ]
  },
  {
   "cell_type": "code",
   "execution_count": null,
   "id": "0648fc03-d884-4cba-addd-b1cf1e1d729d",
   "metadata": {},
   "outputs": [],
   "source": [
    "# Test K values: 1, 3, 5, 7\n",
    "for k in [1, 3, 5, 7]:\n",
    "    # Initialize the KNN model with current K value\n",
    "    model = KNeighborsClassifier(n_neighbors=k)\n",
    "    \n",
    "    # Train the model on the training data\n",
    "    model.fit(X_train, y_train)\n",
    "    \n",
    "    # Predict on the test data\n",
    "    y_pred = model.predict(X_test)\n",
    "    \n",
    "    # Calculate accuracy\n",
    "    accuracy = accuracy_score(y_test, y_pred)\n",
    "    print(f\"K={k} - Model Accuracy: {accuracy:.2f}\")"
   ]
  }
 ],
 "metadata": {
  "kernelspec": {
   "display_name": "Python 3 (ipykernel)",
   "language": "python",
   "name": "python3"
  },
  "language_info": {
   "codemirror_mode": {
    "name": "ipython",
    "version": 3
   },
   "file_extension": ".py",
   "mimetype": "text/x-python",
   "name": "python",
   "nbconvert_exporter": "python",
   "pygments_lexer": "ipython3",
   "version": "3.11.5"
  }
 },
 "nbformat": 4,
 "nbformat_minor": 5
}
