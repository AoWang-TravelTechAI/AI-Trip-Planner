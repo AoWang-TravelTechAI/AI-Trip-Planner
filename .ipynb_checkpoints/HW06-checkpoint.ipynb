{
 "cells": [
  {
   "cell_type": "code",
   "execution_count": null,
   "id": "f4e893ed-6289-45bd-ba81-465d2780367e",
   "metadata": {},
   "outputs": [],
   "source": [
    "# Name: Ao Wang\n",
    "# CWID: 20033397\n",
    "# HW_06"
   ]
  },
  {
   "cell_type": "code",
   "execution_count": null,
   "id": "2a8d9b36-c16e-4078-bfed-b7c339527c4c",
   "metadata": {},
   "outputs": [],
   "source": [
    "6.2 C5.0 Methodology"
   ]
  },
  {
   "cell_type": "code",
   "execution_count": null,
   "id": "1ef2c1ca-20ea-4156-bfe0-afe86b512f1d",
   "metadata": {},
   "outputs": [],
   "source": [
    "# Load packages and data\n",
    "library(C50)\n",
    "library(caret)\n",
    "data <- read.csv(\"breast_cancer_wisconsin.csv\", na.strings = \"?\")"
   ]
  },
  {
   "cell_type": "code",
   "execution_count": null,
   "id": "b7938868-ca86-41ca-b8a2-33545cbfb4d1",
   "metadata": {},
   "outputs": [],
   "source": [
    "# Data preprocessing\n",
    "data[2:10] <- lapply(data[2:10], factor)\n",
    "data$Class <- factor(data$Class)\n",
    "set.seed(123)\n",
    "train_idx <- createDataPartition(data$Class, p=0.7, list=FALSE)\n",
    "train <- data[train_idx, ]\n",
    "test <- data[-train_idx, ]"
   ]
  },
  {
   "cell_type": "code",
   "execution_count": null,
   "id": "0cdda310-00f6-42aa-99a8-7e28c68580e0",
   "metadata": {},
   "outputs": [],
   "source": [
    "# Build and summarize model\n",
    "model <- C5.0(x = train[,2:10], y = train$Class)\n",
    "summary(model)"
   ]
  },
  {
   "cell_type": "code",
   "execution_count": null,
   "id": "918dccf0-6f81-4eb9-b754-57ab8d044127",
   "metadata": {},
   "outputs": [],
   "source": [
    "# Evaluation\n",
    "pred <- predict(model, test)\n",
    "confusionMatrix(pred, test$Class)"
   ]
  },
  {
   "cell_type": "code",
   "execution_count": null,
   "id": "a4b0597d-b48c-4eed-bb30-5051fe19721e",
   "metadata": {},
   "outputs": [],
   "source": [
    "6.3 Random Forest Methodology"
   ]
  },
  {
   "cell_type": "code",
   "execution_count": null,
   "id": "629eac3a-6eb1-4ba7-83a5-563fde89f16b",
   "metadata": {},
   "outputs": [],
   "source": [
    "# Load package and build model\n",
    "library(randomForest)\n",
    "set.seed(123)\n",
    "rf <- randomForest(Class~., data=train[,2:11], ntree=500, importance=TRUE, na.action=na.roughfix)"
   ]
  },
  {
   "cell_type": "code",
   "execution_count": null,
   "id": "adf37bc3-b58f-416e-8fef-93f2274ea115",
   "metadata": {},
   "outputs": [],
   "source": [
    "# Model output\n",
    "print(rf)"
   ]
  },
  {
   "cell_type": "code",
   "execution_count": null,
   "id": "d43255c7-0f86-4506-bf9b-822500a6b7c0",
   "metadata": {},
   "outputs": [],
   "source": [
    "# Prediction evaluation\n",
    "pred_rf <- predict(rf, test)\n",
    "confusionMatrix(pred_rf, test$Class)"
   ]
  },
  {
   "cell_type": "code",
   "execution_count": null,
   "id": "e817876d-be00-48b9-a05f-a310d455cb4e",
   "metadata": {},
   "outputs": [],
   "source": [
    "# Feature importance\n",
    "importance(rf)\n",
    "varImpPlot(rf, main=\"Feature Importance\")"
   ]
  }
 ],
 "metadata": {
  "kernelspec": {
   "display_name": "Python 3 (ipykernel)",
   "language": "python",
   "name": "python3"
  },
  "language_info": {
   "codemirror_mode": {
    "name": "ipython",
    "version": 3
   },
   "file_extension": ".py",
   "mimetype": "text/x-python",
   "name": "python",
   "nbconvert_exporter": "python",
   "pygments_lexer": "ipython3",
   "version": "3.11.5"
  }
 },
 "nbformat": 4,
 "nbformat_minor": 5
}
