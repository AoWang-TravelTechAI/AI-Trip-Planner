{
 "cells": [
  {
   "cell_type": "code",
   "execution_count": 9,
   "id": "f7615f76",
   "metadata": {},
   "outputs": [],
   "source": [
    "import pandas as pd\n",
    "\n",
    "# 1. Load the original dataset\n",
    "df = pd.read_csv(\"credit_train.csv\")\n",
    "\n",
    "# 2. Drop unnecessary ID columns\n",
    "df.drop(['Loan ID', 'Customer ID'], axis=1, inplace=True)\n",
    "\n",
    "# 3. Create a binary target variable: Fully Paid = 1, Others = 0\n",
    "df['Loan_Status_Binary'] = df['Loan Status'].apply(lambda x: 1 if x == 'Fully Paid' else 0)\n",
    "\n",
    "# 4. Drop the original 'Loan Status' column to avoid duplication\n",
    "df.drop('Loan Status', axis=1, inplace=True)\n",
    "\n",
    "# 5. Handle the 'Months since last delinquent' feature\n",
    "# 5.1 Add a boolean column: whether the customer has ever been delinquent\n",
    "df['Has_Delinquency'] = df['Months since last delinquent'].notna().astype(int)\n",
    "\n",
    "# 5.2 Add 1 to all non-null values, replace NaNs with 0 (indicating never delinquent)\n",
    "df['Months since last delinquent'] = df['Months since last delinquent'].apply(\n",
    "    lambda x: x + 1 if pd.notna(x) else 0\n",
    ")\n",
    "\n",
    "# 6. Fill missing values\n",
    "# Identify numeric and categorical columns\n",
    "numeric_cols = df.select_dtypes(include=['int64', 'float64']).drop(columns=['Loan_Status_Binary']).columns\n",
    "categorical_cols = df.select_dtypes(include=['object']).columns\n",
    "\n",
    "# 6.1 Fill missing numeric values with the median\n",
    "for col in numeric_cols:\n",
    "    median_val = df[col].median()\n",
    "    df[col].fillna(median_val, inplace=True)\n",
    "\n",
    "# 6.2 Fill missing categorical values with the mode\n",
    "for col in categorical_cols:\n",
    "    mode_val = df[col].mode()[0]\n",
    "    df[col].fillna(mode_val, inplace=True)\n",
    "    \n",
    "# 7. Export the cleaned dataset to a new CSV file\n",
    "df.to_csv(\"credit_cleaned.csv\", index=False)\n"
   ]
  },
  {
   "cell_type": "code",
   "execution_count": null,
   "id": "cb88c371",
   "metadata": {},
   "outputs": [],
   "source": []
  },
  {
   "cell_type": "code",
   "execution_count": null,
   "id": "bcdae99a",
   "metadata": {},
   "outputs": [],
   "source": []
  }
 ],
 "metadata": {
  "kernelspec": {
   "display_name": "Python 3 (ipykernel)",
   "language": "python",
   "name": "python3"
  },
  "language_info": {
   "codemirror_mode": {
    "name": "ipython",
    "version": 3
   },
   "file_extension": ".py",
   "mimetype": "text/x-python",
   "name": "python",
   "nbconvert_exporter": "python",
   "pygments_lexer": "ipython3",
   "version": "3.9.13"
  }
 },
 "nbformat": 4,
 "nbformat_minor": 5
}
