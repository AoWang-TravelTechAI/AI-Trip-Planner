{
 "cells": [
  {
   "cell_type": "code",
   "execution_count": 1,
   "id": "6a8ee0af-4394-4d74-b46f-2a38e09cb0b0",
   "metadata": {},
   "outputs": [],
   "source": [
    "# Name: Ao Wang\n",
    "# CWID: 20033397\n",
    "# Question 5"
   ]
  },
  {
   "cell_type": "code",
   "execution_count": 11,
   "id": "bcd4189e-4404-44dd-8f25-5023c6697270",
   "metadata": {},
   "outputs": [
    {
     "name": "stdout",
     "output_type": "stream",
     "text": [
      "First 5 rows of the dataset:\n",
      "   Class  AGE  SEX  STEROID  ANTIVIRALS  FATIGUE  MALAISE  ANOREXIA  \\\n",
      "0      1   39    1        1           1        1        1         2   \n",
      "1      1   37    1        2           2        1        2         2   \n",
      "2      1   58    1        2           2        1        2         2   \n",
      "3      1   30    1        2           2        1        1         1   \n",
      "4      1   38    1        1           2        1        1         1   \n",
      "\n",
      "   LIVER_BIG  LIVER_FIRM  SPLEEN_PALPABLE  SPIDERS  ASCITES   VARICES  \\\n",
      "0          2           1                2        2        2         2   \n",
      "1          2           2                2        1        2         2   \n",
      "2          1           1                1        1        2         2   \n",
      "3          2           1                2        1        1         1   \n",
      "4          2           1                2        1        1         1   \n",
      "\n",
      "   BILIRUBIN  ALK_PHOSPHATE  SGOT  ALBUMIN  HISTOLOGY Age_Quartile  \n",
      "0        2.3            280    98      3.8          1           Q2  \n",
      "1        0.6             67    28      4.2          1           Q2  \n",
      "2        2.0            167   242      3.3          1           Q4  \n",
      "3        2.5            165    64      2.8          2           Q1  \n",
      "4        1.2            118    16      2.8          2           Q2  \n"
     ]
    }
   ],
   "source": [
    "# Import necessary libraries\n",
    "import pandas as pd\n",
    "from sklearn.neighbors import KNeighborsClassifier\n",
    "from sklearn.model_selection import train_test_split, GridSearchCV\n",
    "from sklearn.preprocessing import StandardScaler\n",
    "from sklearn.metrics import accuracy_score\n",
    "\n",
    "# Load the dataset\n",
    "df = pd.read_csv(\"hepatitis_B2.csv\")\n",
    "\n",
    "# Display the first few rows of the dataset\n",
    "print(\"First 5 rows of the dataset:\")\n",
    "print(df.head())"
   ]
  },
  {
   "cell_type": "code",
   "execution_count": 12,
   "id": "36986abe-89f1-4c00-97ad-61f559ecfed3",
   "metadata": {},
   "outputs": [
    {
     "name": "stdout",
     "output_type": "stream",
     "text": [
      "Shape of features (X): (40, 7)\n",
      "Shape of target (y): (40,)\n"
     ]
    }
   ],
   "source": [
    "# Select features: AGE, SEX, ASCITES, BILIRUBIN, ALK_PHOSPHATE, SGOT, ALBUMIN\n",
    "X = df[[\"AGE\", \"SEX\", \"ASCITES\", \"BILIRUBIN\", \"ALK_PHOSPHATE\", \"SGOT\", \"ALBUMIN\"]]\n",
    "\n",
    "# Select target variable: Class (1: Die, 2: Live)\n",
    "y = df[\"Class\"]\n",
    "\n",
    "# Display the shape of the features and target variable\n",
    "print(\"Shape of features (X):\", X.shape)\n",
    "print(\"Shape of target (y):\", y.shape)"
   ]
  },
  {
   "cell_type": "code",
   "execution_count": 13,
   "id": "19899a41-7f35-440c-8ebe-188305ae74f7",
   "metadata": {},
   "outputs": [
    {
     "name": "stdout",
     "output_type": "stream",
     "text": [
      "Shape of training features (X_train): (32, 7)\n",
      "Shape of testing features (X_test): (8, 7)\n",
      "Shape of training target (y_train): (32,)\n",
      "Shape of testing target (y_test): (8,)\n"
     ]
    }
   ],
   "source": [
    "# Standardize the features (important for KNN)\n",
    "scaler = StandardScaler()\n",
    "X_scaled = scaler.fit_transform(X)\n",
    "\n",
    "# Split the data: 80% training, 20% testing\n",
    "X_train, X_test, y_train, y_test = train_test_split(X_scaled, y, test_size=0.2, random_state=42)\n",
    "\n",
    "# Display the shape of the training and testing sets\n",
    "print(\"Shape of training features (X_train):\", X_train.shape)\n",
    "print(\"Shape of testing features (X_test):\", X_test.shape)\n",
    "print(\"Shape of training target (y_train):\", y_train.shape)\n",
    "print(\"Shape of testing target (y_test):\", y_test.shape)"
   ]
  },
  {
   "cell_type": "code",
   "execution_count": 14,
   "id": "0648fc03-d884-4cba-addd-b1cf1e1d729d",
   "metadata": {},
   "outputs": [
    {
     "name": "stdout",
     "output_type": "stream",
     "text": [
      "Best K value: 3\n",
      "Best cross-validation accuracy: 0.85\n"
     ]
    }
   ],
   "source": [
    "# Define the parameter grid for K values\n",
    "param_grid = {\"n_neighbors\": [1, 3, 5, 7, 9, 11]}\n",
    "\n",
    "# Initialize the KNN model\n",
    "model = KNeighborsClassifier()\n",
    "\n",
    "# Perform grid search with 5-fold cross-validation\n",
    "grid_search = GridSearchCV(model, param_grid, cv=5, scoring=\"accuracy\")\n",
    "grid_search.fit(X_scaled, y)\n",
    "\n",
    "# Display the best K value and corresponding accuracy\n",
    "print(\"Best K value:\", grid_search.best_params_[\"n_neighbors\"])\n",
    "print(\"Best cross-validation accuracy:\", grid_search.best_score_)"
   ]
  },
  {
   "cell_type": "code",
   "execution_count": null,
   "id": "12dff130-0b00-4671-9119-23e874d150d0",
   "metadata": {},
   "outputs": [],
   "source": []
  }
 ],
 "metadata": {
  "kernelspec": {
   "display_name": "Python 3 (ipykernel)",
   "language": "python",
   "name": "python3"
  },
  "language_info": {
   "codemirror_mode": {
    "name": "ipython",
    "version": 3
   },
   "file_extension": ".py",
   "mimetype": "text/x-python",
   "name": "python",
   "nbconvert_exporter": "python",
   "pygments_lexer": "ipython3",
   "version": "3.11.5"
  }
 },
 "nbformat": 4,
 "nbformat_minor": 5
}
