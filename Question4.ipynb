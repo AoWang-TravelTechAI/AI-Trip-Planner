{
 "cells": [
  {
   "cell_type": "code",
   "execution_count": 13,
   "id": "ca3d43d4-e0c3-40a5-87ae-6494ce599284",
   "metadata": {},
   "outputs": [],
   "source": [
    "# Name: Ao Wang\n",
    "# CWID: 20033397\n",
    "# Question 4"
   ]
  },
  {
   "cell_type": "code",
   "execution_count": 23,
   "id": "841c408e-708d-456d-a36d-9d400bb7442a",
   "metadata": {},
   "outputs": [
    {
     "name": "stdout",
     "output_type": "stream",
     "text": [
      "First 5 rows of the dataset:\n",
      "   Class  AGE  SEX  STEROID  ANTIVIRALS  FATIGUE  MALAISE  ANOREXIA  \\\n",
      "0      2   30    2      1.0           2      2.0      2.0       2.0   \n",
      "1      2   50    1      1.0           2      1.0      2.0       2.0   \n",
      "2      2   78    1      2.0           2      1.0      2.0       2.0   \n",
      "3      2   31    1      NaN           1      2.0      2.0       2.0   \n",
      "4      2   34    1      2.0           2      2.0      2.0       2.0   \n",
      "\n",
      "   LIVER_BIG  LIVER_FIRM  SPLEEN_PALPABLE  SPIDERS  ASCITES   VARICES  \\\n",
      "0        1.0         2.0              2.0      2.0      2.0       2.0   \n",
      "1        1.0         2.0              2.0      2.0      2.0       2.0   \n",
      "2        2.0         2.0              2.0      2.0      2.0       2.0   \n",
      "3        2.0         2.0              2.0      2.0      2.0       2.0   \n",
      "4        2.0         2.0              2.0      2.0      2.0       2.0   \n",
      "\n",
      "   BILIRUBIN  ALK_PHOSPHATE   SGOT  ALBUMIN  HISTOLOGY Age_Quartile  \n",
      "0        1.0           85.0   18.0      4.0          1           Q1  \n",
      "1        0.9          135.0   42.0      3.5          1           Q3  \n",
      "2        0.7           96.0   32.0      4.0          1           Q4  \n",
      "3        0.7           46.0   52.0      4.0          1           Q1  \n",
      "4        1.0            NaN  200.0      4.0          1           Q2  \n"
     ]
    }
   ],
   "source": [
    "# Import necessary libraries\n",
    "import pandas as pd  # Import pandas and alias it as pd\n",
    "from sklearn.tree import DecisionTreeClassifier  # For building the CART model\n",
    "from sklearn.model_selection import train_test_split  # For splitting the dataset\n",
    "from sklearn.metrics import accuracy_score  # For evaluating model accuracy\n",
    "\n",
    "# Load the dataset\n",
    "df = pd.read_csv(\"hepatitis_A.csv\")  # Load the dataset into a DataFrame\n",
    "\n",
    "# Display the first few rows of the dataset\n",
    "print(\"First 5 rows of the dataset:\")\n",
    "print(df.head())"
   ]
  },
  {
   "cell_type": "code",
   "execution_count": 24,
   "id": "3a33f3c3-1dca-45bb-856e-a4724985f405",
   "metadata": {},
   "outputs": [
    {
     "name": "stdout",
     "output_type": "stream",
     "text": [
      "First 5 rows after encoding 'Age_Quartile':\n",
      "   Class  AGE  SEX  STEROID  ANTIVIRALS  FATIGUE  MALAISE  ANOREXIA  \\\n",
      "0      2   30    2      1.0           2      2.0      2.0       2.0   \n",
      "1      2   50    1      1.0           2      1.0      2.0       2.0   \n",
      "2      2   78    1      2.0           2      1.0      2.0       2.0   \n",
      "3      2   31    1      NaN           1      2.0      2.0       2.0   \n",
      "4      2   34    1      2.0           2      2.0      2.0       2.0   \n",
      "\n",
      "   LIVER_BIG  LIVER_FIRM  SPLEEN_PALPABLE  SPIDERS  ASCITES   VARICES  \\\n",
      "0        1.0         2.0              2.0      2.0      2.0       2.0   \n",
      "1        1.0         2.0              2.0      2.0      2.0       2.0   \n",
      "2        2.0         2.0              2.0      2.0      2.0       2.0   \n",
      "3        2.0         2.0              2.0      2.0      2.0       2.0   \n",
      "4        2.0         2.0              2.0      2.0      2.0       2.0   \n",
      "\n",
      "   BILIRUBIN  ALK_PHOSPHATE   SGOT  ALBUMIN  HISTOLOGY  Age_Quartile  \n",
      "0        1.0           85.0   18.0      4.0          1             0  \n",
      "1        0.9          135.0   42.0      3.5          1             2  \n",
      "2        0.7           96.0   32.0      4.0          1             3  \n",
      "3        0.7           46.0   52.0      4.0          1             0  \n",
      "4        1.0            NaN  200.0      4.0          1             1  \n"
     ]
    }
   ],
   "source": [
    "# Encode the 'Age_Quartile' column into numerical values\n",
    "from sklearn.preprocessing import LabelEncoder\n",
    "\n",
    "# Initialize the LabelEncoder\n",
    "label_encoder = LabelEncoder()\n",
    "\n",
    "# Encode the 'Age_Quartile' column\n",
    "df['Age_Quartile'] = label_encoder.fit_transform(df['Age_Quartile'])\n",
    "\n",
    "# Display the first few rows after encoding\n",
    "print(\"First 5 rows after encoding 'Age_Quartile':\")\n",
    "print(df.head())"
   ]
  },
  {
   "cell_type": "code",
   "execution_count": 25,
   "id": "1d6fa32b-9b28-472e-8128-51b0ad67a2af",
   "metadata": {},
   "outputs": [
    {
     "name": "stdout",
     "output_type": "stream",
     "text": [
      "Shape of features (X): (155, 5)\n",
      "Shape of target (y): (155,)\n"
     ]
    }
   ],
   "source": [
    "# Select features: SEX, Age_Quartile, STEROID, FATIGUE, MALAISE\n",
    "X = df[[\"SEX\", \"Age_Quartile\", \"STEROID\", \"FATIGUE\", \"MALAISE\"]]\n",
    "\n",
    "# Select target variable: Class (1: Die, 2: Live)\n",
    "y = df[\"Class\"]\n",
    "\n",
    "# Display the shape of the features and target variable\n",
    "print(\"Shape of features (X):\", X.shape)\n",
    "print(\"Shape of target (y):\", y.shape)"
   ]
  },
  {
   "cell_type": "code",
   "execution_count": 26,
   "id": "4bca3b8c-065a-4c05-839b-94b6f1df6780",
   "metadata": {},
   "outputs": [
    {
     "name": "stdout",
     "output_type": "stream",
     "text": [
      "Shape of training features (X_train): (124, 5)\n",
      "Shape of testing features (X_test): (31, 5)\n",
      "Shape of training target (y_train): (124,)\n",
      "Shape of testing target (y_test): (31,)\n"
     ]
    }
   ],
   "source": [
    "# Split the data: 80% training, 20% testing\n",
    "X_train, X_test, y_train, y_test = train_test_split(X, y, test_size=0.2, random_state=42)\n",
    "\n",
    "# Display the shape of the training and testing sets\n",
    "print(\"Shape of training features (X_train):\", X_train.shape)\n",
    "print(\"Shape of testing features (X_test):\", X_test.shape)\n",
    "print(\"Shape of training target (y_train):\", y_train.shape)\n",
    "print(\"Shape of testing target (y_test):\", y_test.shape)"
   ]
  },
  {
   "cell_type": "code",
   "execution_count": 27,
   "id": "7d20400c-96c7-444e-894f-480bb02a4833",
   "metadata": {},
   "outputs": [
    {
     "name": "stdout",
     "output_type": "stream",
     "text": [
      "CART model has been trained.\n"
     ]
    }
   ],
   "source": [
    "# Initialize the Decision Tree Classifier (CART model)\n",
    "model = DecisionTreeClassifier()\n",
    "\n",
    "# Train the model on the training data\n",
    "model.fit(X_train, y_train)\n",
    "\n",
    "# Display a message indicating that the model has been trained\n",
    "print(\"CART model has been trained.\")"
   ]
  },
  {
   "cell_type": "code",
   "execution_count": 28,
   "id": "3ae5bfc6-d88e-47f0-83e7-29677340209d",
   "metadata": {},
   "outputs": [
    {
     "name": "stdout",
     "output_type": "stream",
     "text": [
      "Model Accuracy: 0.77\n"
     ]
    }
   ],
   "source": [
    "# Predict on the test data\n",
    "y_pred = model.predict(X_test)\n",
    "\n",
    "# Calculate accuracy\n",
    "accuracy = accuracy_score(y_test, y_pred)\n",
    "\n",
    "# Display the model's accuracy\n",
    "print(f\"Model Accuracy: {accuracy:.2f}\")"
   ]
  },
  {
   "cell_type": "code",
   "execution_count": null,
   "id": "fca218e6-a669-408f-9001-6d7b582e3aa8",
   "metadata": {},
   "outputs": [],
   "source": []
  }
 ],
 "metadata": {
  "kernelspec": {
   "display_name": "Python 3 (ipykernel)",
   "language": "python",
   "name": "python3"
  },
  "language_info": {
   "codemirror_mode": {
    "name": "ipython",
    "version": 3
   },
   "file_extension": ".py",
   "mimetype": "text/x-python",
   "name": "python",
   "nbconvert_exporter": "python",
   "pygments_lexer": "ipython3",
   "version": "3.11.5"
  }
 },
 "nbformat": 4,
 "nbformat_minor": 5
}
